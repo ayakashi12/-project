{
 "cells": [
  {
   "cell_type": "code",
   "execution_count": null,
   "id": "cba0c922",
   "metadata": {
    "scrolled": true
   },
   "outputs": [
    {
     "name": "stderr",
     "output_type": "stream",
     "text": [
      "C:\\Users\\student\\anaconda3\\lib\\site-packages\\requests\\__init__.py:102: RequestsDependencyWarning: urllib3 (1.26.9) or chardet (5.1.0)/charset_normalizer (2.0.4) doesn't match a supported version!\n",
      "  warnings.warn(\"urllib3 ({}) or chardet ({})/charset_normalizer ({}) doesn't match a supported \"\n"
     ]
    }
   ],
   "source": [
    "import numpy as np\n",
    "import pandas as pd\n",
    "from IPython.display import clear_output\n",
    "from time import sleep, time \n",
    "import re\n",
    "from concurrent.futures import ThreadPoolExecutor, ProcessPoolExecutor, as_completed\n",
    "# 操作 browser 的 API\n",
    "from selenium.webdriver.chrome.service import Service\n",
    "from selenium.webdriver.chrome.options import Options \n",
    "\n",
    "from selenium import webdriver\n",
    "from selenium.webdriver.common.action_chains import ActionChains\n",
    "\n",
    "# 處理逾時例外的工具\n",
    "from selenium.common.exceptions import TimeoutException, WebDriverException\n",
    "\n",
    "# 面對動態網頁，等待某個元素出現的工具，通常與 exptected_conditions 搭配\n",
    "from selenium.webdriver.support.ui import WebDriverWait\n",
    "\n",
    "# 搭配 WebDriverWait 使用，對元素狀態的一種期待條件，若條件發生，則等待結束，往下一行執行\n",
    "from selenium.webdriver.support import expected_conditions as EC\n",
    "\n",
    "# 期待元素出現要透過什麼方式指定，通常與 EC、WebDriverWait 一起使用\n",
    "from selenium.webdriver.common.by import By\n",
    "\n",
    "from webdriver_manager.chrome import ChromeDriverManager\n",
    "# 啟動瀏覽器工具的選項\n",
    "# my_options = webdriver.ChromeOptions()\n",
    "# # my_options.add_argument(\"--headless\")                #不開啟實體瀏覽器背景執行\n",
    "# #my_options.add_argument(\"--start-maximized\")         #最大化視窗\n",
    "# my_options.add_argument(\"--incognito\")               #開啟無痕模式\n",
    "# my_options.add_argument(\"--disable-popup-blocking\") #禁用彈出攔截\n",
    "# my_options.add_argument(\"--disable-notifications\")  #取消 chrome 推播通知\n",
    "# my_options.add_argument(\"--lang=zh-TW\")  #設定為正體中文"
   ]
  },
  {
   "cell_type": "code",
   "execution_count": 2,
   "id": "1a5a61a4",
   "metadata": {},
   "outputs": [],
   "source": [
    "URL = 'hAttps://www.google.com.tw/maps/@23.546162,120.6402133,8z?hl=zh-TW'"
   ]
  },
  {
   "cell_type": "code",
   "execution_count": 3,
   "id": "7b620872",
   "metadata": {},
   "outputs": [],
   "source": [
    "def chromeDriver(name: str, addr: str) -> int:\n",
    "    chrome_options = webdriver.ChromeOptions()\n",
    "    driver = webdriver.Chrome(service = Service(ChromeDriverManager().install()),options=chrome_options)\n",
    "\n",
    "    driver.get(URL)\n",
    "\n",
    "    inputElement = WebDriverWait(driver, 5).until(EC.presence_of_element_located((By.ID, 'searchboxinput')))\n",
    "    try:\n",
    "        inputElement.send_keys(name + \" \" + addr)\n",
    "    except :\n",
    "        return 88\n",
    "\n",
    "    driver.find_element(By.CSS_SELECTOR,'#searchbox > div.pzfvzf > button.mL3xi').click()\n",
    "    \n",
    "    try:\n",
    "        addr = WebDriverWait(driver, 3).until(EC.presence_of_element_located((By.CSS_SELECTOR, 'button > div.AeaXub > div.rogA2c > div.Io6YTe.fontBodyMedium')))\n",
    "        if re.search(\"台北市|新北市\", addr.text) is None:\n",
    "            return 88\n",
    "    except WebDriverException:\n",
    "        pass\n",
    "    \n",
    "    user_input = \"\"\n",
    "    while user_input == \"\":\n",
    "        try:\n",
    "            user_input = int(input(\"Other:0, Breakfast:1, Fastfood:2, Exotic:3, Taiwan:4, Chinese:5, Japan:6 : \") or \"4\")\n",
    "        except ValueError:\n",
    "            user_input = \"\"\n",
    "            \n",
    "    return user_input"
   ]
  },
  {
   "cell_type": "code",
   "execution_count": 4,
   "id": "2fa4f10c",
   "metadata": {},
   "outputs": [],
   "source": [
    "df_class = pd.read_csv(\"C:/Users/student/Desktop/classifier.csv\")"
   ]
  },
  {
   "cell_type": "code",
   "execution_count": 5,
   "id": "0c13c168",
   "metadata": {},
   "outputs": [
    {
     "data": {
      "text/html": [
       "<div>\n",
       "<style scoped>\n",
       "    .dataframe tbody tr th:only-of-type {\n",
       "        vertical-align: middle;\n",
       "    }\n",
       "\n",
       "    .dataframe tbody tr th {\n",
       "        vertical-align: top;\n",
       "    }\n",
       "\n",
       "    .dataframe thead th {\n",
       "        text-align: right;\n",
       "    }\n",
       "</style>\n",
       "<table border=\"1\" class=\"dataframe\">\n",
       "  <thead>\n",
       "    <tr style=\"text-align: right;\">\n",
       "      <th></th>\n",
       "      <th>No</th>\n",
       "      <th>name</th>\n",
       "      <th>style</th>\n",
       "      <th>address</th>\n",
       "      <th>新分類</th>\n",
       "    </tr>\n",
       "  </thead>\n",
       "  <tbody>\n",
       "  </tbody>\n",
       "</table>\n",
       "</div>"
      ],
      "text/plain": [
       "Empty DataFrame\n",
       "Columns: [No, name, style, address, 新分類]\n",
       "Index: []"
      ]
     },
     "execution_count": 5,
     "metadata": {},
     "output_type": "execute_result"
    }
   ],
   "source": [
    "df_none_class = df_class[df_class[\"新分類\"].isna()]\n",
    "df_none_class.drop(columns=['Unnamed: 0'])"
   ]
  },
  {
   "cell_type": "code",
   "execution_count": 6,
   "id": "587386e8",
   "metadata": {},
   "outputs": [],
   "source": [
    "name_list = df_none_class[\"name\"].tolist()"
   ]
  },
  {
   "cell_type": "code",
   "execution_count": 7,
   "id": "7c1b61fb",
   "metadata": {},
   "outputs": [],
   "source": [
    "addr_list = df_none_class[\"address\"].tolist()"
   ]
  },
  {
   "cell_type": "code",
   "execution_count": 8,
   "id": "c4fa88bf",
   "metadata": {},
   "outputs": [],
   "source": [
    "# all_class = {\"Other\":[],\"Breakfast\":[],\"Fastfood\":[],\"Exotic\":[],\"Taiwan\":[],\"Chinese\":[],\"Japan\":[]}"
   ]
  },
  {
   "cell_type": "code",
   "execution_count": 9,
   "id": "1cf8792a",
   "metadata": {},
   "outputs": [],
   "source": [
    "# all_class[\"Breakfast\"] = []"
   ]
  },
  {
   "cell_type": "code",
   "execution_count": 10,
   "id": "ab5855f9",
   "metadata": {},
   "outputs": [],
   "source": [
    "# all_class[\"Fastfood\"] = []"
   ]
  },
  {
   "cell_type": "code",
   "execution_count": 11,
   "id": "86f8a577",
   "metadata": {},
   "outputs": [],
   "source": [
    "# all_class[\"Exotic\"] = []"
   ]
  },
  {
   "cell_type": "code",
   "execution_count": 12,
   "id": "4805ba9c",
   "metadata": {},
   "outputs": [],
   "source": [
    "# all_class[\"Taiwan\"] = []"
   ]
  },
  {
   "cell_type": "code",
   "execution_count": 13,
   "id": "e497507c",
   "metadata": {},
   "outputs": [],
   "source": [
    "# all_class[\"Japan\"] = []"
   ]
  },
  {
   "cell_type": "code",
   "execution_count": 14,
   "id": "de56be67",
   "metadata": {},
   "outputs": [],
   "source": [
    "# all_class[\"Chinese\"] = []"
   ]
  },
  {
   "cell_type": "code",
   "execution_count": 15,
   "id": "550d5f65",
   "metadata": {},
   "outputs": [],
   "source": [
    "# all_class[\"Other\"] = []"
   ]
  },
  {
   "cell_type": "code",
   "execution_count": 16,
   "id": "071d4caa",
   "metadata": {},
   "outputs": [],
   "source": [
    "def chromeDriver_notInRange(searchKey: str):\n",
    "    chrome_options = webdriver.ChromeOptions()\n",
    "    chrome_options.add_argument(\"--headless\")\n",
    "    driver = webdriver.Chrome(service=Service(ChromeDriverManager().install()), options=chrome_options)\n",
    "\n",
    "    driver.get(URL)\n",
    "\n",
    "    inputElement = WebDriverWait(driver, 5).until(EC.presence_of_element_located((By.ID, 'searchboxinput')))\n",
    "    inputElement.send_keys(searchKey)\n",
    "\n",
    "    driver.find_element(By.CSS_SELECTOR,'#searchbox > div.pzfvzf > button.mL3xi').click()\n",
    "    \n",
    "    try:\n",
    "        addr = WebDriverWait(driver, 3).until(EC.presence_of_element_located((By.CSS_SELECTOR, 'button > div.AeaXub > div.rogA2c > div.Io6YTe.fontBodyMedium')))\n",
    "        if re.search(\"台北市|新北市\", addr.text) is None:\n",
    "            df_class.loc[df_class[\"name\"] == searchKey, [\"新分類\"]] = \"X\"\n",
    "            print(f'{df_class.loc[df_class[\"name\"] == searchKey, [\"新分類\"]].index.values} {searchKey} {addr.text}')\n",
    "    except :\n",
    "        if df_class.loc[df_class[\"name\"] == searchKey, [\"新分類\"]] is None:\n",
    "            df_class.loc[df_class[\"name\"] == searchKey, [\"新分類\"]] = None\n",
    "    "
   ]
  },
  {
   "cell_type": "code",
   "execution_count": 17,
   "id": "df34eacb",
   "metadata": {
    "scrolled": true
   },
   "outputs": [],
   "source": [
    "# with ThreadPoolExecutor() as executor:\n",
    "#     executor.map(chromeDriver_notInRange, check_list)"
   ]
  },
  {
   "cell_type": "code",
   "execution_count": 18,
   "id": "b559e520",
   "metadata": {},
   "outputs": [],
   "source": [
    "# df_class = pd.read_csv(\"C:/Users/student/Desktop/classifier2.csv\")"
   ]
  },
  {
   "cell_type": "code",
   "execution_count": 19,
   "id": "9a30c4f1",
   "metadata": {},
   "outputs": [],
   "source": [
    "# df_class.drop(df_class.index[8457],inplace=True)\n",
    "# df_class.to_csv(\"C:/Users/student/Desktop/classifier.csv\",index=None)"
   ]
  },
  {
   "cell_type": "code",
   "execution_count": 20,
   "id": "b67a8898",
   "metadata": {},
   "outputs": [],
   "source": [
    "# df_none_class = df_class[df_class[\"新分類\"].isna()]\n",
    "# df_none_class.drop(columns=['Unnamed: 0'])"
   ]
  },
  {
   "cell_type": "code",
   "execution_count": 21,
   "id": "2642f570",
   "metadata": {},
   "outputs": [],
   "source": [
    "auto_save_count = 0\n",
    "for name, addr in zip(name_list, addr_list):\n",
    "    clear_output()\n",
    "    \n",
    "    x = chromeDriver(name, addr)\n",
    "    if x == 0:\n",
    "        df_class.loc[df_class[\"name\"] == name, [\"新分類\"]] = \"Other\"\n",
    "    elif x == 1:\n",
    "        df_class.loc[df_class[\"name\"] == name, [\"新分類\"]] = \"Breakfast\"\n",
    "    elif x == 2:\n",
    "        df_class.loc[df_class[\"name\"] == name, [\"新分類\"]] = \"Fastfood\"\n",
    "    elif x == 3:\n",
    "        df_class.loc[df_class[\"name\"] == name, [\"新分類\"]] = \"Exotic\"\n",
    "    elif x == 4:\n",
    "        df_class.loc[df_class[\"name\"] == name, [\"新分類\"]] = \"Taiwan\"\n",
    "    elif x == 5:\n",
    "        df_class.loc[df_class[\"name\"] == name, [\"新分類\"]] = \"Chinese\"\n",
    "    elif x == 6:\n",
    "        df_class.loc[df_class[\"name\"] == name, [\"新分類\"]] = \"Japan\"\n",
    "    elif x == 88:\n",
    "        df_class.loc[df_class[\"name\"] == name, [\"新分類\"]] = \"X\"\n",
    "    elif x == 999:\n",
    "        df_class.to_csv(\"C:/Users/student/Desktop/classifier.csv\",index=None)\n",
    "        print(\"Saved File...\")\n",
    "        break\n",
    "    else:\n",
    "        df_class.loc[df_class[\"name\"] == name, [\"新分類\"]] = None\n",
    "    \n",
    "    auto_save_count += 1\n",
    "    \n",
    "    if auto_save_count >= 1:\n",
    "        auto_save_count = 0\n",
    "        df_class.to_csv(\"C:/Users/student/Desktop/classifier.csv\",index=None)\n",
    "        print(\"Auto Saving File...\")\n",
    "#         sleep(3)\n"
   ]
  }
 ],
 "metadata": {
  "kernelspec": {
   "display_name": "Python 3 (ipykernel)",
   "language": "python",
   "name": "python3"
  },
  "language_info": {
   "codemirror_mode": {
    "name": "ipython",
    "version": 3
   },
   "file_extension": ".py",
   "mimetype": "text/x-python",
   "name": "python",
   "nbconvert_exporter": "python",
   "pygments_lexer": "ipython3",
   "version": "3.9.12"
  }
 },
 "nbformat": 4,
 "nbformat_minor": 5
}

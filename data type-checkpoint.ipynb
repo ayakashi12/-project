{
 "cells": [
  {
   "cell_type": "code",
   "execution_count": 1,
   "id": "2f78fe20-23b8-4725-96fc-871bf913186f",
   "metadata": {},
   "outputs": [],
   "source": [
    "x = 3"
   ]
  },
  {
   "cell_type": "code",
   "execution_count": 3,
   "id": "349aebfa-886e-41b3-b1ed-f213852f5725",
   "metadata": {
    "tags": []
   },
   "outputs": [
    {
     "data": {
      "text/plain": [
       "3"
      ]
     },
     "execution_count": 3,
     "metadata": {},
     "output_type": "execute_result"
    }
   ],
   "source": [
    "x"
   ]
  },
  {
   "cell_type": "markdown",
   "id": "eebe08d6-5dd8-4122-9532-bc9878c9a552",
   "metadata": {},
   "source": [
    "<h2>數值資料型態</h2>"
   ]
  },
  {
   "cell_type": "markdown",
   "id": "b55fedfa-5716-4426-b95a-6f343399bfa8",
   "metadata": {
    "tags": []
   },
   "source": [
    "## 數值資料型態"
   ]
  },
  {
   "cell_type": "code",
   "execution_count": 6,
   "id": "a68c5003-c871-4e49-a49f-8b942bf6f5e2",
   "metadata": {},
   "outputs": [],
   "source": [
    "# var1 是一個參考，參考到一個記憶體位址，該位址存放數字10\n",
    "#var1 相當於C的pointer\n",
    "var1 = 10"
   ]
  },
  {
   "cell_type": "code",
   "execution_count": 7,
   "id": "e283f125-f76d-4a5a-a614-a798a9358a35",
   "metadata": {},
   "outputs": [],
   "source": [
    "#改變var1 參考到另一個記憶體位址，該位址存放數字20\n",
    "var1 = 20"
   ]
  },
  {
   "cell_type": "code",
   "execution_count": 9,
   "id": "0b6e3225-412b-46cc-9fa9-16ef73cb3502",
   "metadata": {},
   "outputs": [
    {
     "data": {
      "text/plain": [
       "20"
      ]
     },
     "execution_count": 9,
     "metadata": {},
     "output_type": "execute_result"
    }
   ],
   "source": [
    "var1"
   ]
  },
  {
   "cell_type": "markdown",
   "id": "dc765f01-2e1e-4f19-9a29-5165d7878d56",
   "metadata": {},
   "source": [
    "### 布林是整數的子型態"
   ]
  },
  {
   "cell_type": "code",
   "execution_count": 10,
   "id": "7fe0f5ae-6825-4b2f-b041-c7ac90d668cc",
   "metadata": {},
   "outputs": [
    {
     "data": {
      "text/plain": [
       "True"
      ]
     },
     "execution_count": 10,
     "metadata": {},
     "output_type": "execute_result"
    }
   ],
   "source": [
    "# True ==1\n",
    "True"
   ]
  },
  {
   "cell_type": "code",
   "execution_count": 11,
   "id": "2362163c-ed8d-4c00-9d0c-05f487057ace",
   "metadata": {},
   "outputs": [
    {
     "data": {
      "text/plain": [
       "False"
      ]
     },
     "execution_count": 11,
     "metadata": {},
     "output_type": "execute_result"
    }
   ],
   "source": [
    "# False ==0\n",
    "False"
   ]
  },
  {
   "cell_type": "code",
   "execution_count": 12,
   "id": "c5cd4b5d-17a9-40f7-b108-7fd411104a62",
   "metadata": {},
   "outputs": [
    {
     "data": {
      "text/plain": [
       "7"
      ]
     },
     "execution_count": 12,
     "metadata": {},
     "output_type": "execute_result"
    }
   ],
   "source": [
    "True + 6"
   ]
  },
  {
   "cell_type": "code",
   "execution_count": 13,
   "id": "545839fd-80af-4441-9b3f-2e6510a97c97",
   "metadata": {},
   "outputs": [
    {
     "data": {
      "text/plain": [
       "-2"
      ]
     },
     "execution_count": 13,
     "metadata": {},
     "output_type": "execute_result"
    }
   ],
   "source": [
    "False -2"
   ]
  },
  {
   "cell_type": "code",
   "execution_count": 2,
   "id": "bec31617-2e10-41b2-a78a-cc96c3166fbd",
   "metadata": {},
   "outputs": [
    {
     "data": {
      "text/plain": [
       "True"
      ]
     },
     "execution_count": 2,
     "metadata": {},
     "output_type": "execute_result"
    }
   ],
   "source": [
    "# 非零就是True\n",
    "bool(-99)"
   ]
  },
  {
   "cell_type": "code",
   "execution_count": 1,
   "id": "d67f09b3-c2e6-45ee-8039-cc18086deb70",
   "metadata": {},
   "outputs": [
    {
     "data": {
      "text/plain": [
       "True"
      ]
     },
     "execution_count": 1,
     "metadata": {},
     "output_type": "execute_result"
    }
   ],
   "source": [
    " bool(1)"
   ]
  },
  {
   "cell_type": "code",
   "execution_count": 15,
   "id": "38876d91-a4fa-41c4-ad1e-a3bb07bdd496",
   "metadata": {},
   "outputs": [
    {
     "ename": "OverflowError",
     "evalue": "(34, 'Result too large')",
     "output_type": "error",
     "traceback": [
      "\u001b[1;31m---------------------------------------------------------------------------\u001b[0m",
      "\u001b[1;31mOverflowError\u001b[0m                             Traceback (most recent call last)",
      "Cell \u001b[1;32mIn [15], line 1\u001b[0m\n\u001b[1;32m----> 1\u001b[0m \u001b[38;5;241;43m99.0\u001b[39;49m\u001b[43m \u001b[49m\u001b[38;5;241;43m*\u001b[39;49m\u001b[38;5;241;43m*\u001b[39;49m\u001b[43m \u001b[49m\u001b[38;5;241;43m999\u001b[39;49m\n",
      "\u001b[1;31mOverflowError\u001b[0m: (34, 'Result too large')"
     ]
    }
   ],
   "source": [
    "99.0 ** 999"
   ]
  },
  {
   "cell_type": "code",
   "execution_count": 16,
   "id": "6366f807-58fe-43a0-8bec-43c07a5f68af",
   "metadata": {},
   "outputs": [
    {
     "data": {
      "text/plain": [
       "43607320616826516150134170338646201223107986075620608122042152718341096569545917590671870901580903358089476539623429084337462072232323071988487722379025918136755324190771905744346299895101262599307041418954741821869968434014360426644150217367535228232882075278549084725532810757690211467541802733062351872629554887071558565105695677775800388952822060307618460889511910384740346745943545064075415717782672023429351183468901656480345653681279807760503885914267068619022794752754526226771965509515429769648943853393239466825581612114199388796846713698917724135481280269758239887617123242806941909343309827534698631895049620931536029044672739890893731191572695394918757396075233400643214858118180583796749973549192881847496687493228681933883471419305060028239670757748730500105612756664893487357552376496719298602670598130493347017948692042081377598537358748002952547169866050883302508349720700651016938696180158800498316548501175152775533119976607827063817490547330402728524591368881264569985453491886319052131328728570583818564408673363285874627267673252785057700907094407300537042771693320295830608507458585348221347122499594911138477627406334364083621560827029793286395456214852438250303387531773235681535933473521419169488498159152761557826192742496821559991415227170097504961476506200211299335714069542688981875338616104136244975260096287855709071756715604259948711756265446540708637145010756617391517706049935039684935491582597441963211160507086049676500663852688906531131555974645591096814621093225847864090909267239163899350786582783841798570024502259541481335139715410637523456696273629960402393128908813871826086839104466371057841461548132615966946230528245048730192919253049295790150492481440313287274889457554062183833564917170760547521002721621831858497390536681773386602450057910854295098455215379515799387105287701204877340476212991327443730608598868554899539340943577841165431687252557996668355126634828795393392192731183338157723722131288855592435620519974479953860308528414089899"
      ]
     },
     "execution_count": 16,
     "metadata": {},
     "output_type": "execute_result"
    }
   ],
   "source": [
    "99 ** 999"
   ]
  },
  {
   "cell_type": "code",
   "execution_count": 17,
   "id": "318005b5-6583-4aec-8e0b-d404cb2efc74",
   "metadata": {},
   "outputs": [
    {
     "data": {
      "text/plain": [
       "13"
      ]
     },
     "execution_count": 17,
     "metadata": {},
     "output_type": "execute_result"
    }
   ],
   "source": [
    "# 二進位\n",
    "0b1101"
   ]
  },
  {
   "cell_type": "code",
   "execution_count": 18,
   "id": "02b2f6d6-58ff-46c8-b0e4-17fc3cc0c4a8",
   "metadata": {},
   "outputs": [
    {
     "data": {
      "text/plain": [
       "27"
      ]
     },
     "execution_count": 18,
     "metadata": {},
     "output_type": "execute_result"
    }
   ],
   "source": [
    "# 8進位\n",
    "0o33"
   ]
  },
  {
   "cell_type": "code",
   "execution_count": 19,
   "id": "df9116d5-0fed-4b45-b455-b3f6c692bb0d",
   "metadata": {},
   "outputs": [
    {
     "data": {
      "text/plain": [
       "33"
      ]
     },
     "execution_count": 19,
     "metadata": {},
     "output_type": "execute_result"
    }
   ],
   "source": [
    "#數值型態轉換 浮點數轉整數\n",
    "int(33.6)"
   ]
  },
  {
   "cell_type": "code",
   "execution_count": 21,
   "id": "e2b8ad68-8a38-47ca-9a73-91e2b2733621",
   "metadata": {},
   "outputs": [
    {
     "data": {
      "text/plain": [
       "75"
      ]
     },
     "execution_count": 21,
     "metadata": {},
     "output_type": "execute_result"
    }
   ],
   "source": [
    "int(\"75\")"
   ]
  },
  {
   "cell_type": "code",
   "execution_count": 20,
   "id": "f1c7f551-a0c8-46d0-871a-3069ffdc5c5a",
   "metadata": {},
   "outputs": [
    {
     "data": {
      "text/plain": [
       "33.0"
      ]
     },
     "execution_count": 20,
     "metadata": {},
     "output_type": "execute_result"
    }
   ],
   "source": [
    "#數值型態轉換 整數轉浮點數\n",
    "float(33)"
   ]
  },
  {
   "cell_type": "code",
   "execution_count": 22,
   "id": "43596106-1538-480e-af7d-4e5f0170d48e",
   "metadata": {},
   "outputs": [
    {
     "data": {
      "text/plain": [
       "34.112"
      ]
     },
     "execution_count": 22,
     "metadata": {},
     "output_type": "execute_result"
    }
   ],
   "source": [
    "float('34.112')"
   ]
  },
  {
   "cell_type": "markdown",
   "id": "bb5b259e-1648-4896-befb-bb4b2eacd520",
   "metadata": {},
   "source": [
    "### 凡事皆物件"
   ]
  },
  {
   "cell_type": "code",
   "execution_count": 23,
   "id": "19479cb2-8377-4fba-a1ef-a1a23dad51af",
   "metadata": {},
   "outputs": [],
   "source": [
    "x=100"
   ]
  },
  {
   "cell_type": "code",
   "execution_count": 24,
   "id": "0f506621-c1cf-45f6-a0a0-4aeaf1e61648",
   "metadata": {},
   "outputs": [
    {
     "data": {
      "text/plain": [
       "1955767061840"
      ]
     },
     "execution_count": 24,
     "metadata": {},
     "output_type": "execute_result"
    }
   ],
   "source": [
    "# x參考到的記憶體位址\n",
    "id(x)"
   ]
  },
  {
   "cell_type": "code",
   "execution_count": 25,
   "id": "1c9b2bda-2bd7-4fda-894f-7fe91c45a003",
   "metadata": {},
   "outputs": [
    {
     "data": {
      "text/plain": [
       "int"
      ]
     },
     "execution_count": 25,
     "metadata": {},
     "output_type": "execute_result"
    }
   ],
   "source": [
    "# x參考到的記憶體位址內存放的資料型態\n",
    "type(x)"
   ]
  },
  {
   "cell_type": "code",
   "execution_count": 26,
   "id": "671eddfb-3b3e-4256-a084-c840353a0900",
   "metadata": {},
   "outputs": [
    {
     "data": {
      "text/plain": [
       "100"
      ]
     },
     "execution_count": 26,
     "metadata": {},
     "output_type": "execute_result"
    }
   ],
   "source": [
    "# x參考得值\n",
    "x"
   ]
  },
  {
   "cell_type": "code",
   "execution_count": 27,
   "id": "7ef6d385-a078-4de8-acc7-527504456494",
   "metadata": {},
   "outputs": [
    {
     "data": {
      "text/plain": [
       "300"
      ]
     },
     "execution_count": 27,
     "metadata": {},
     "output_type": "execute_result"
    }
   ],
   "source": [
    "m=300\n",
    "m"
   ]
  },
  {
   "cell_type": "code",
   "execution_count": 28,
   "id": "d9835492-c2a0-4460-bd34-5ca191bb39db",
   "metadata": {},
   "outputs": [
    {
     "data": {
      "text/plain": [
       "1955873866192"
      ]
     },
     "execution_count": 28,
     "metadata": {},
     "output_type": "execute_result"
    }
   ],
   "source": [
    "id(m)"
   ]
  },
  {
   "cell_type": "code",
   "execution_count": 29,
   "id": "3e44ab28-99f3-45b9-8c7e-e7378bf461f3",
   "metadata": {},
   "outputs": [
    {
     "data": {
      "text/plain": [
       "300"
      ]
     },
     "execution_count": 29,
     "metadata": {},
     "output_type": "execute_result"
    }
   ],
   "source": [
    "n=300\n",
    "n"
   ]
  },
  {
   "cell_type": "markdown",
   "id": "43788cc6-b64b-4cf4-a367-5803d63f1f59",
   "metadata": {},
   "source": [
    "id(n)"
   ]
  },
  {
   "cell_type": "markdown",
   "id": "3f3e3200-9104-4adf-878f-5ad277cbccef",
   "metadata": {},
   "source": [
    "### 比較運算子"
   ]
  },
  {
   "cell_type": "code",
   "execution_count": 31,
   "id": "7a2bd2a6-3f6b-4375-9b3c-518f0d8fa78d",
   "metadata": {},
   "outputs": [],
   "source": [
    "x,y,z = 3,6,2"
   ]
  },
  {
   "cell_type": "code",
   "execution_count": 32,
   "id": "bc1ef3c3-4eaa-42a5-9814-1b645f6a9f5b",
   "metadata": {},
   "outputs": [
    {
     "data": {
      "text/plain": [
       "True"
      ]
     },
     "execution_count": 32,
     "metadata": {},
     "output_type": "execute_result"
    }
   ],
   "source": [
    "## java x<y && y>z\n",
    "x<y>z"
   ]
  },
  {
   "cell_type": "code",
   "execution_count": 33,
   "id": "c6a51d22-cb1c-4aba-8338-45ff78a94ce2",
   "metadata": {},
   "outputs": [
    {
     "data": {
      "text/plain": [
       "True"
      ]
     },
     "execution_count": 33,
     "metadata": {},
     "output_type": "execute_result"
    }
   ],
   "source": [
    "55>33<44"
   ]
  },
  {
   "cell_type": "code",
   "execution_count": 34,
   "id": "9c6f5e88-a0ff-4070-9c74-b70f413cf0e1",
   "metadata": {},
   "outputs": [
    {
     "data": {
      "text/plain": [
       "3"
      ]
     },
     "execution_count": 34,
     "metadata": {},
     "output_type": "execute_result"
    }
   ],
   "source": [
    "(x<y>z)*3"
   ]
  },
  {
   "cell_type": "markdown",
   "id": "185ada20-86dd-4e41-97c5-cf4915548b2e",
   "metadata": {},
   "source": [
    "### 邏輯運算子"
   ]
  },
  {
   "cell_type": "code",
   "execution_count": 35,
   "id": "8de00a75-e522-4322-a875-f7c27c4602fa",
   "metadata": {},
   "outputs": [
    {
     "data": {
      "text/plain": [
       "0"
      ]
     },
     "execution_count": 35,
     "metadata": {},
     "output_type": "execute_result"
    }
   ],
   "source": [
    "0 and 7"
   ]
  },
  {
   "cell_type": "code",
   "execution_count": 36,
   "id": "9fe9364b-8df2-44b4-a25a-60d1a52fd3b2",
   "metadata": {},
   "outputs": [
    {
     "data": {
      "text/plain": [
       "7"
      ]
     },
     "execution_count": 36,
     "metadata": {},
     "output_type": "execute_result"
    }
   ],
   "source": [
    "# reutrn非零就是True，零就是False\n",
    "0 or 7 "
   ]
  },
  {
   "cell_type": "code",
   "execution_count": 37,
   "id": "580ee027-5828-4609-afa7-e42fe8a9caba",
   "metadata": {},
   "outputs": [
    {
     "data": {
      "text/plain": [
       "22"
      ]
     },
     "execution_count": 37,
     "metadata": {},
     "output_type": "execute_result"
    }
   ],
   "source": [
    "18 and 22"
   ]
  },
  {
   "cell_type": "markdown",
   "id": "74fa733f-dd45-4c1d-bdf7-8e970f02a693",
   "metadata": {},
   "source": [
    "### Identity運算子"
   ]
  },
  {
   "cell_type": "code",
   "execution_count": 38,
   "id": "4a30c9b2-f832-45f8-911d-d8ca84beadde",
   "metadata": {},
   "outputs": [],
   "source": [
    "x,y=500,500"
   ]
  },
  {
   "cell_type": "code",
   "execution_count": 39,
   "id": "f52754be-c85c-495f-9df9-17eee360af7d",
   "metadata": {},
   "outputs": [
    {
     "data": {
      "text/plain": [
       "500"
      ]
     },
     "execution_count": 39,
     "metadata": {},
     "output_type": "execute_result"
    }
   ],
   "source": [
    "x"
   ]
  },
  {
   "cell_type": "code",
   "execution_count": 40,
   "id": "4c3b9369-98c4-495d-ac4d-1409d83c3db3",
   "metadata": {},
   "outputs": [
    {
     "data": {
      "text/plain": [
       "500"
      ]
     },
     "execution_count": 40,
     "metadata": {},
     "output_type": "execute_result"
    }
   ],
   "source": [
    "y"
   ]
  },
  {
   "cell_type": "code",
   "execution_count": 41,
   "id": "8d16a5ae-8a51-40d4-be42-6542aa1b10fd",
   "metadata": {},
   "outputs": [
    {
     "data": {
      "text/plain": [
       "True"
      ]
     },
     "execution_count": 41,
     "metadata": {},
     "output_type": "execute_result"
    }
   ],
   "source": [
    "x ==y"
   ]
  },
  {
   "cell_type": "code",
   "execution_count": 42,
   "id": "b85ab299-606d-434b-93ab-e1fedb9bd465",
   "metadata": {},
   "outputs": [
    {
     "data": {
      "text/plain": [
       "True"
      ]
     },
     "execution_count": 42,
     "metadata": {},
     "output_type": "execute_result"
    }
   ],
   "source": [
    "x is y"
   ]
  },
  {
   "cell_type": "code",
   "execution_count": 43,
   "id": "b2776d46-4e38-48cd-9bed-d673f9c42a4a",
   "metadata": {},
   "outputs": [
    {
     "data": {
      "text/plain": [
       "True"
      ]
     },
     "execution_count": 43,
     "metadata": {},
     "output_type": "execute_result"
    }
   ],
   "source": [
    "id(x) == id(y)"
   ]
  },
  {
   "cell_type": "code",
   "execution_count": null,
   "id": "31417d5a-e5e4-447e-a5f5-5684ba176ab7",
   "metadata": {},
   "outputs": [],
   "source": []
  },
  {
   "cell_type": "code",
   "execution_count": 44,
   "id": "d7d0a454-a49a-4d73-a5cb-c399dc0b9afa",
   "metadata": {},
   "outputs": [
    {
     "data": {
      "text/plain": [
       "500"
      ]
     },
     "execution_count": 44,
     "metadata": {},
     "output_type": "execute_result"
    }
   ],
   "source": [
    "o=500\n",
    "o"
   ]
  },
  {
   "cell_type": "code",
   "execution_count": 45,
   "id": "8322967f-3080-4c0a-b56d-8bfafc4ce5eb",
   "metadata": {},
   "outputs": [
    {
     "data": {
      "text/plain": [
       "500"
      ]
     },
     "execution_count": 45,
     "metadata": {},
     "output_type": "execute_result"
    }
   ],
   "source": [
    "p = 500\n",
    "p"
   ]
  },
  {
   "cell_type": "code",
   "execution_count": 46,
   "id": "c7885995-99e0-4fdb-aaac-e19ef8a3fa1d",
   "metadata": {},
   "outputs": [
    {
     "data": {
      "text/plain": [
       "True"
      ]
     },
     "execution_count": 46,
     "metadata": {},
     "output_type": "execute_result"
    }
   ],
   "source": [
    "o == p"
   ]
  },
  {
   "cell_type": "code",
   "execution_count": 47,
   "id": "052dd15a-57c2-4258-b195-88717f619283",
   "metadata": {},
   "outputs": [
    {
     "data": {
      "text/plain": [
       "False"
      ]
     },
     "execution_count": 47,
     "metadata": {},
     "output_type": "execute_result"
    }
   ],
   "source": [
    "o is p"
   ]
  },
  {
   "cell_type": "code",
   "execution_count": 49,
   "id": "1115aba9-7bbf-47b7-a610-c7e609570f66",
   "metadata": {},
   "outputs": [
    {
     "data": {
      "text/plain": [
       "False"
      ]
     },
     "execution_count": 49,
     "metadata": {},
     "output_type": "execute_result"
    }
   ],
   "source": [
    "id(o) == id(p)"
   ]
  },
  {
   "cell_type": "markdown",
   "id": "13a68dd2-f323-4b28-81f8-b51f9130d224",
   "metadata": {},
   "source": [
    "### 文字資料型態"
   ]
  },
  {
   "cell_type": "code",
   "execution_count": 51,
   "id": "ff675c98-4861-4a15-b0cb-a5c7e70d8c7e",
   "metadata": {},
   "outputs": [
    {
     "data": {
      "text/plain": [
       "'hello'"
      ]
     },
     "execution_count": 51,
     "metadata": {},
     "output_type": "execute_result"
    }
   ],
   "source": [
    "\"hello\""
   ]
  },
  {
   "cell_type": "code",
   "execution_count": 52,
   "id": "ab22730e-2e9e-4863-9f82-393a2fd1ba1e",
   "metadata": {},
   "outputs": [
    {
     "data": {
      "text/plain": [
       "\"It's good\""
      ]
     },
     "execution_count": 52,
     "metadata": {},
     "output_type": "execute_result"
    }
   ],
   "source": [
    "\"It's good\""
   ]
  },
  {
   "cell_type": "code",
   "execution_count": 53,
   "id": "21f25a7e-4457-4136-8474-11895d043b8c",
   "metadata": {},
   "outputs": [],
   "source": [
    "mystr='''this is test\n",
    "[TAB]\\t other characters'''"
   ]
  },
  {
   "cell_type": "code",
   "execution_count": 54,
   "id": "2c5a050a-7244-4ebe-ab93-108385135fd1",
   "metadata": {},
   "outputs": [
    {
     "data": {
      "text/plain": [
       "'this is test\\n[TAB]\\t other characters'"
      ]
     },
     "execution_count": 54,
     "metadata": {},
     "output_type": "execute_result"
    }
   ],
   "source": [
    "mystr"
   ]
  },
  {
   "cell_type": "code",
   "execution_count": 55,
   "id": "b97d835d-27ce-49b8-9ac1-329e3fd33ac8",
   "metadata": {},
   "outputs": [
    {
     "name": "stdout",
     "output_type": "stream",
     "text": [
      "this is test\n",
      "[TAB]\t other characters\n"
     ]
    }
   ],
   "source": [
    "# 在jupyter notebook很少用到print()。除非要顯示格式化字串\n",
    "print(mystr)"
   ]
  },
  {
   "cell_type": "markdown",
   "id": "64a56d15-b87e-428b-8c4c-f8a4c849cb72",
   "metadata": {},
   "source": [
    "### jupyter_notebook不用print的好處"
   ]
  },
  {
   "cell_type": "code",
   "execution_count": 56,
   "id": "7e803aab-11f9-415e-800c-ebaba7aa8d59",
   "metadata": {},
   "outputs": [
    {
     "name": "stdout",
     "output_type": "stream",
     "text": [
      "33\n"
     ]
    }
   ],
   "source": [
    "a = 33\n",
    "print(a)"
   ]
  },
  {
   "cell_type": "code",
   "execution_count": 58,
   "id": "246edf39-30ed-40bf-b2a8-29f4d2fda2f2",
   "metadata": {},
   "outputs": [
    {
     "name": "stdout",
     "output_type": "stream",
     "text": [
      "33\n"
     ]
    }
   ],
   "source": [
    "mydata='33'\n",
    "print(mydata)"
   ]
  },
  {
   "cell_type": "code",
   "execution_count": 59,
   "id": "ea366f26-bf69-43df-a32e-a51481372470",
   "metadata": {},
   "outputs": [
    {
     "data": {
      "text/plain": [
       "33"
      ]
     },
     "execution_count": 59,
     "metadata": {},
     "output_type": "execute_result"
    }
   ],
   "source": [
    "a"
   ]
  },
  {
   "cell_type": "code",
   "execution_count": 60,
   "id": "82a38cd0-a52a-4a98-8d96-73426a61fd10",
   "metadata": {},
   "outputs": [
    {
     "data": {
      "text/plain": [
       "'33'"
      ]
     },
     "execution_count": 60,
     "metadata": {},
     "output_type": "execute_result"
    }
   ],
   "source": [
    "mydata"
   ]
  },
  {
   "cell_type": "code",
   "execution_count": 61,
   "id": "cd716329-0e9a-44f8-8fda-1dffb5dd2acb",
   "metadata": {},
   "outputs": [
    {
     "data": {
      "text/plain": [
       "True"
      ]
     },
     "execution_count": 61,
     "metadata": {},
     "output_type": "execute_result"
    }
   ],
   "source": [
    "'3' in mydata"
   ]
  },
  {
   "cell_type": "code",
   "execution_count": 62,
   "id": "36cd0cba-7542-4f7c-af8b-6eb3b715e497",
   "metadata": {},
   "outputs": [
    {
     "data": {
      "text/plain": [
       "False"
      ]
     },
     "execution_count": 62,
     "metadata": {},
     "output_type": "execute_result"
    }
   ],
   "source": [
    "'9' in mydata"
   ]
  },
  {
   "cell_type": "code",
   "execution_count": 63,
   "id": "abc4d46c-e9d3-4ed2-92f4-a95428ab8d5e",
   "metadata": {},
   "outputs": [
    {
     "ename": "TypeError",
     "evalue": "'str' object does not support item assignment",
     "output_type": "error",
     "traceback": [
      "\u001b[1;31m---------------------------------------------------------------------------\u001b[0m",
      "\u001b[1;31mTypeError\u001b[0m                                 Traceback (most recent call last)",
      "Cell \u001b[1;32mIn [63], line 2\u001b[0m\n\u001b[0;32m      1\u001b[0m \u001b[38;5;66;03m# 字串是不可改變的\u001b[39;00m\n\u001b[1;32m----> 2\u001b[0m \u001b[43mmydata\u001b[49m\u001b[43m[\u001b[49m\u001b[38;5;241;43m0\u001b[39;49m\u001b[43m]\u001b[49m \u001b[38;5;241m=\u001b[39m \u001b[38;5;124m'\u001b[39m\u001b[38;5;124mk\u001b[39m\u001b[38;5;124m'\u001b[39m\n",
      "\u001b[1;31mTypeError\u001b[0m: 'str' object does not support item assignment"
     ]
    }
   ],
   "source": [
    "# 字串是不可改變的\n",
    "mydata[0] = 'k'"
   ]
  },
  {
   "cell_type": "code",
   "execution_count": 64,
   "id": "03f860ec-7547-412c-aeda-50cda7c99be0",
   "metadata": {},
   "outputs": [
    {
     "data": {
      "text/plain": [
       "'hellopython'"
      ]
     },
     "execution_count": 64,
     "metadata": {},
     "output_type": "execute_result"
    }
   ],
   "source": [
    "'hello'+\"python\""
   ]
  },
  {
   "cell_type": "code",
   "execution_count": 65,
   "id": "3aa7b644-921f-4291-a222-09c011539c0c",
   "metadata": {},
   "outputs": [
    {
     "data": {
      "text/plain": [
       "'333333'"
      ]
     },
     "execution_count": 65,
     "metadata": {},
     "output_type": "execute_result"
    }
   ],
   "source": [
    "# 文字33重複3遍\n",
    "3*mydata"
   ]
  },
  {
   "cell_type": "code",
   "execution_count": 66,
   "id": "da3f10b0-a257-4376-a835-8b8823d76160",
   "metadata": {},
   "outputs": [
    {
     "name": "stdout",
     "output_type": "stream",
     "text": [
      "33\n"
     ]
    }
   ],
   "source": [
    "# 容易誤判 \n",
    "print(mydata)"
   ]
  },
  {
   "cell_type": "markdown",
   "id": "72242a16-546c-4126-8d9a-c2e33f9df5bf",
   "metadata": {},
   "source": [
    "### slicing"
   ]
  },
  {
   "cell_type": "code",
   "execution_count": 67,
   "id": "3b35e518-b237-4179-ac12-12955f6aaee9",
   "metadata": {},
   "outputs": [],
   "source": [
    "mystr = 'hello python'"
   ]
  },
  {
   "cell_type": "code",
   "execution_count": 68,
   "id": "d0634ac1-5a13-45db-84c8-76ef4a10e110",
   "metadata": {},
   "outputs": [
    {
     "data": {
      "text/plain": [
       "'ello'"
      ]
     },
     "execution_count": 68,
     "metadata": {},
     "output_type": "execute_result"
    }
   ],
   "source": [
    "mystr[1:5] # 1~4"
   ]
  },
  {
   "cell_type": "code",
   "execution_count": 69,
   "id": "44b5c883-8674-45f2-bd76-558f20798a22",
   "metadata": {},
   "outputs": [
    {
     "data": {
      "text/plain": [
       "'hello p'"
      ]
     },
     "execution_count": 69,
     "metadata": {},
     "output_type": "execute_result"
    }
   ],
   "source": [
    "mystr[:7] #0~6"
   ]
  },
  {
   "cell_type": "code",
   "execution_count": 71,
   "id": "90f8a3b4-2083-4359-b74f-2f89acefd75a",
   "metadata": {},
   "outputs": [
    {
     "data": {
      "text/plain": [
       "'llo python'"
      ]
     },
     "execution_count": 71,
     "metadata": {},
     "output_type": "execute_result"
    }
   ],
   "source": [
    "mystr[2:] #2~最後一個"
   ]
  },
  {
   "cell_type": "code",
   "execution_count": 72,
   "id": "b1c81553-a857-45e2-ab9b-c592274aaacc",
   "metadata": {},
   "outputs": [
    {
     "data": {
      "text/plain": [
       "'el y'"
      ]
     },
     "execution_count": 72,
     "metadata": {},
     "output_type": "execute_result"
    }
   ],
   "source": [
    "mystr[1:9:2] #1~8,step2 一次跳兩格"
   ]
  },
  {
   "cell_type": "code",
   "execution_count": 73,
   "id": "7001f286-1b04-4095-ad9d-bacf0217ff58",
   "metadata": {},
   "outputs": [
    {
     "data": {
      "text/plain": [
       "'lo pyth'"
      ]
     },
     "execution_count": 73,
     "metadata": {},
     "output_type": "execute_result"
    }
   ],
   "source": [
    "mystr[3:-2] #3~倒數第三個字元"
   ]
  },
  {
   "cell_type": "code",
   "execution_count": 74,
   "id": "b175d19e-5e18-4f9b-8667-4f48dd3098ef",
   "metadata": {},
   "outputs": [
    {
     "data": {
      "text/plain": [
       "'hello python'"
      ]
     },
     "execution_count": 74,
     "metadata": {},
     "output_type": "execute_result"
    }
   ],
   "source": [
    "mystr[:] #所有字元"
   ]
  },
  {
   "cell_type": "code",
   "execution_count": 75,
   "id": "47bfc98a-aed0-4ccf-a4f7-7f62dad90521",
   "metadata": {},
   "outputs": [
    {
     "data": {
      "text/plain": [
       "'nohtyp olleh'"
      ]
     },
     "execution_count": 75,
     "metadata": {},
     "output_type": "execute_result"
    }
   ],
   "source": [
    "mystr[::-1] #所有字元反向顯示"
   ]
  },
  {
   "cell_type": "code",
   "execution_count": 76,
   "id": "fc43a60c-85e1-446f-b7e5-3f725f13fe7c",
   "metadata": {},
   "outputs": [
    {
     "data": {
      "text/plain": [
       "'[Pp]ython$'"
      ]
     },
     "execution_count": 76,
     "metadata": {},
     "output_type": "execute_result"
    }
   ],
   "source": [
    "# Raw String 不解釋特殊符號的意義，應用於Regular expression\n",
    "r'[Pp]ython$' #要找python 或 Python 結尾的文字"
   ]
  },
  {
   "cell_type": "markdown",
   "id": "d2cfbfb1-6a82-4e1f-849f-2b5731cd35a6",
   "metadata": {},
   "source": [
    "### prit() Function"
   ]
  },
  {
   "cell_type": "code",
   "execution_count": 77,
   "id": "34557ac9-dd4b-4f7b-b9f2-9520707c4785",
   "metadata": {},
   "outputs": [],
   "source": [
    "num = 567"
   ]
  },
  {
   "cell_type": "code",
   "execution_count": 78,
   "id": "d46a49d6-8ce6-4891-af7e-8242545d0e9c",
   "metadata": {},
   "outputs": [
    {
     "data": {
      "text/plain": [
       "567"
      ]
     },
     "execution_count": 78,
     "metadata": {},
     "output_type": "execute_result"
    }
   ],
   "source": [
    "# 顯示num參考到的值\n",
    "num"
   ]
  },
  {
   "cell_type": "code",
   "execution_count": 79,
   "id": "437397d1-0c81-4391-a3ab-f8ef0f96128c",
   "metadata": {},
   "outputs": [
    {
     "name": "stdout",
     "output_type": "stream",
     "text": [
      "567\n"
     ]
    }
   ],
   "source": [
    "# 印出num參到的值，會先轉成文字，在印出\n",
    "print(num)"
   ]
  },
  {
   "cell_type": "code",
   "execution_count": 83,
   "id": "439e6349-2816-4943-8485-d8027502661f",
   "metadata": {},
   "outputs": [
    {
     "name": "stdout",
     "output_type": "stream",
     "text": [
      "hello\n",
      "python\n"
     ]
    }
   ],
   "source": [
    "#print預設會換行\n",
    "print('hello')\n",
    "print('python')"
   ]
  },
  {
   "cell_type": "code",
   "execution_count": 82,
   "id": "2a17e03c-ef14-4a84-9037-80ecd06114c7",
   "metadata": {},
   "outputs": [
    {
     "name": "stdout",
     "output_type": "stream",
     "text": [
      "hello python\n"
     ]
    }
   ],
   "source": [
    "# 可以用end參數來改變預設值\n",
    "print('hello',end=' ')\n",
    "print('python')"
   ]
  },
  {
   "cell_type": "code",
   "execution_count": 84,
   "id": "69becf96-5e28-479d-ae20-643ccad0afc0",
   "metadata": {},
   "outputs": [
    {
     "name": "stdout",
     "output_type": "stream",
     "text": [
      "100 + 200 = 300\n"
     ]
    }
   ],
   "source": [
    "a=100\n",
    "b=200\n",
    "print(a,'+',b,'=',a+b)"
   ]
  },
  {
   "cell_type": "markdown",
   "id": "8a89769b-df55-47df-8cfe-d352823c27f2",
   "metadata": {},
   "source": [
    "### input() function"
   ]
  },
  {
   "cell_type": "code",
   "execution_count": 2,
   "id": "5be01a3e-4645-48a9-bc5d-7c84980a45a9",
   "metadata": {},
   "outputs": [
    {
     "name": "stdin",
     "output_type": "stream",
     "text": [
      " hello\n"
     ]
    }
   ],
   "source": [
    "# 從鍵盤讀到的都是文字\n",
    "num = input()"
   ]
  },
  {
   "cell_type": "code",
   "execution_count": 3,
   "id": "b46d6e69-7537-4d70-9c5f-45bffdb33158",
   "metadata": {},
   "outputs": [
    {
     "data": {
      "text/plain": [
       "'hello'"
      ]
     },
     "execution_count": 3,
     "metadata": {},
     "output_type": "execute_result"
    }
   ],
   "source": [
    "num"
   ]
  },
  {
   "cell_type": "code",
   "execution_count": 4,
   "id": "aef2dd34-c58e-42d5-8125-5c77d96bdadd",
   "metadata": {},
   "outputs": [
    {
     "name": "stdin",
     "output_type": "stream",
     "text": [
      "請輸入一個數字 345\n"
     ]
    }
   ],
   "source": [
    "# 可透過eval()轉成數字\n",
    "num=eval(input('請輸入一個數字'))"
   ]
  },
  {
   "cell_type": "code",
   "execution_count": 5,
   "id": "8caaf854-0101-4dae-bbfd-2dbd150a72b7",
   "metadata": {},
   "outputs": [
    {
     "data": {
      "text/plain": [
       "345"
      ]
     },
     "execution_count": 5,
     "metadata": {},
     "output_type": "execute_result"
    }
   ],
   "source": [
    "num"
   ]
  },
  {
   "cell_type": "code",
   "execution_count": 6,
   "id": "728e5061-e485-4a30-b85e-df3ca23f07ac",
   "metadata": {},
   "outputs": [
    {
     "data": {
      "text/plain": [
       "int"
      ]
     },
     "execution_count": 6,
     "metadata": {},
     "output_type": "execute_result"
    }
   ],
   "source": [
    "type(num)"
   ]
  },
  {
   "cell_type": "markdown",
   "id": "6924ab89-d625-445a-9cca-180cd83c2f91",
   "metadata": {},
   "source": [
    "### 格式化字串"
   ]
  },
  {
   "cell_type": "code",
   "execution_count": 8,
   "id": "cd2e3959-5dad-446f-9ef0-71255fb06e08",
   "metadata": {},
   "outputs": [
    {
     "name": "stdout",
     "output_type": "stream",
     "text": [
      "100 + 200 = 300\n"
     ]
    }
   ],
   "source": [
    "a=100\n",
    "b=200\n",
    "print(a,'+',b,'=',a+b)"
   ]
  },
  {
   "cell_type": "code",
   "execution_count": 9,
   "id": "2fffb5b8-bd77-4a93-9884-92e34998879d",
   "metadata": {},
   "outputs": [
    {
     "name": "stdout",
     "output_type": "stream",
     "text": [
      "100+200=300\n"
     ]
    }
   ],
   "source": [
    "print(f'{a}+{b}={a+b}') #f-string 最新語法"
   ]
  },
  {
   "cell_type": "code",
   "execution_count": 10,
   "id": "0f3f7468-779c-43ff-b040-c9f4ed1b3175",
   "metadata": {},
   "outputs": [
    {
     "name": "stdout",
     "output_type": "stream",
     "text": [
      "100 + 200 = 300\n"
     ]
    }
   ],
   "source": [
    "print('{} + {} = {}'.format(a,b,a+b)) #string format"
   ]
  },
  {
   "cell_type": "code",
   "execution_count": 11,
   "id": "ed3f205c-a55f-4cf6-b807-ed3348064565",
   "metadata": {},
   "outputs": [
    {
     "name": "stdout",
     "output_type": "stream",
     "text": [
      "100 + 200 = 300\n"
     ]
    }
   ],
   "source": [
    "print('%d + %d = %d' %(a,b,a+b))  # string format  operator， python2所使用"
   ]
  },
  {
   "cell_type": "code",
   "execution_count": 12,
   "id": "81293104-cf84-4978-af50-ceb8280e4bbe",
   "metadata": {},
   "outputs": [],
   "source": [
    "prec=0.98342311"
   ]
  },
  {
   "cell_type": "code",
   "execution_count": 15,
   "id": "a767a57e-2f17-4e17-a7c4-2c5b005c01c2",
   "metadata": {},
   "outputs": [
    {
     "name": "stdout",
     "output_type": "stream",
     "text": [
      "模型精確度為:98.34%\n"
     ]
    }
   ],
   "source": [
    "print(f'模型精確度為:{prec*100:.2f}%') #浮點數，小數兩位"
   ]
  },
  {
   "cell_type": "code",
   "execution_count": 16,
   "id": "28cf7993-7597-4be9-819e-158c38deb155",
   "metadata": {},
   "outputs": [
    {
     "name": "stdout",
     "output_type": "stream",
     "text": [
      "模型精確度為:98.34%\n"
     ]
    }
   ],
   "source": [
    "print('模型精確度為:{:.2f}%'.format(prec*100)) #浮點數，小數兩位"
   ]
  },
  {
   "cell_type": "code",
   "execution_count": 17,
   "id": "325869dc-108a-4f00-9c46-359933c03984",
   "metadata": {},
   "outputs": [
    {
     "name": "stdout",
     "output_type": "stream",
     "text": [
      "模型精確度為:98.34%\n"
     ]
    }
   ],
   "source": [
    "print('模型精確度為:%.2f%%' %(prec*100)) #浮點數，小數兩位"
   ]
  },
  {
   "cell_type": "markdown",
   "id": "c3323f82-add2-4733-9cdf-ee3e99c39bdc",
   "metadata": {},
   "source": [
    "### list"
   ]
  },
  {
   "cell_type": "code",
   "execution_count": 1,
   "id": "6ff065a7-dc00-4526-933c-a6ec9d434f3f",
   "metadata": {},
   "outputs": [
    {
     "data": {
      "text/plain": [
       "[1, 2, 3, 4, 5]"
      ]
     },
     "execution_count": 1,
     "metadata": {},
     "output_type": "execute_result"
    }
   ],
   "source": [
    "lst1=[1,2,3,4,5]\n",
    "lst1"
   ]
  },
  {
   "cell_type": "code",
   "execution_count": 2,
   "id": "4c08b885-fec3-486c-8580-649f4b16d4a1",
   "metadata": {},
   "outputs": [
    {
     "data": {
      "text/plain": [
       "[1, 2]"
      ]
     },
     "execution_count": 2,
     "metadata": {},
     "output_type": "execute_result"
    }
   ],
   "source": [
    "lst1[:-3]"
   ]
  },
  {
   "cell_type": "code",
   "execution_count": 3,
   "id": "b286be5b-3b32-4904-96fe-55b78aada97b",
   "metadata": {},
   "outputs": [
    {
     "data": {
      "text/plain": [
       "[1, 200, 3, 4, 5]"
      ]
     },
     "execution_count": 3,
     "metadata": {},
     "output_type": "execute_result"
    }
   ],
   "source": [
    "lst1[1]=200\n",
    "lst1"
   ]
  },
  {
   "cell_type": "code",
   "execution_count": 4,
   "id": "06b681c0-9dbe-4403-b11a-fa0a47fb37da",
   "metadata": {},
   "outputs": [
    {
     "data": {
      "text/plain": [
       "[1, 200, 3, 300, 400]"
      ]
     },
     "execution_count": 4,
     "metadata": {},
     "output_type": "execute_result"
    }
   ],
   "source": [
    "lst1[-2:]=300,400\n",
    "lst1"
   ]
  },
  {
   "cell_type": "code",
   "execution_count": 5,
   "id": "08969752-b902-4780-8ee4-e5173c5444d1",
   "metadata": {},
   "outputs": [
    {
     "data": {
      "text/plain": [
       "[1, 200, 3, 400, 500]"
      ]
     },
     "execution_count": 5,
     "metadata": {},
     "output_type": "execute_result"
    }
   ],
   "source": [
    "lst1[3:]=400,500\n",
    "lst1"
   ]
  },
  {
   "cell_type": "code",
   "execution_count": 6,
   "id": "af8a743e-faaa-4922-bfa6-f166f13b785f",
   "metadata": {},
   "outputs": [
    {
     "data": {
      "text/plain": [
       "[33, 'python', [11, 22, 33], 77]"
      ]
     },
     "execution_count": 6,
     "metadata": {},
     "output_type": "execute_result"
    }
   ],
   "source": [
    "lst2=[33,'python',[11,22,33],77]\n",
    "lst2"
   ]
  },
  {
   "cell_type": "code",
   "execution_count": 7,
   "id": "374578b2-8162-46a6-984e-f60d895d338e",
   "metadata": {},
   "outputs": [
    {
     "data": {
      "text/plain": [
       "[11, 22, 33]"
      ]
     },
     "execution_count": 7,
     "metadata": {},
     "output_type": "execute_result"
    }
   ],
   "source": [
    "lst2[2]"
   ]
  },
  {
   "cell_type": "code",
   "execution_count": 8,
   "id": "21bf2700-fef5-434f-bd7a-251cf5286425",
   "metadata": {},
   "outputs": [
    {
     "data": {
      "text/plain": [
       "22"
      ]
     },
     "execution_count": 8,
     "metadata": {},
     "output_type": "execute_result"
    }
   ],
   "source": [
    "lst2[2][1]"
   ]
  },
  {
   "cell_type": "code",
   "execution_count": 9,
   "id": "e5f462da-da43-4bbd-bc41-cdb39d185b0b",
   "metadata": {},
   "outputs": [
    {
     "data": {
      "text/plain": [
       "[33, 'python', [11, 200, 33], 77]"
      ]
     },
     "execution_count": 9,
     "metadata": {},
     "output_type": "execute_result"
    }
   ],
   "source": [
    "lst2[2][1] = 200\n",
    "lst2"
   ]
  },
  {
   "cell_type": "code",
   "execution_count": 10,
   "id": "095c381e-a1b8-4745-a6fb-6206fff4c0ee",
   "metadata": {},
   "outputs": [
    {
     "data": {
      "text/plain": [
       "['p', 'y', 't', 'h', 'o', 'n']"
      ]
     },
     "execution_count": 10,
     "metadata": {},
     "output_type": "execute_result"
    }
   ],
   "source": [
    "lst3=list('python')\n",
    "lst3"
   ]
  },
  {
   "cell_type": "code",
   "execution_count": 11,
   "id": "1f7b6494-7206-4a33-8bdd-1b3ab27e7713",
   "metadata": {},
   "outputs": [
    {
     "data": {
      "text/plain": [
       "[1, 200, 3, 400, 500]"
      ]
     },
     "execution_count": 11,
     "metadata": {},
     "output_type": "execute_result"
    }
   ],
   "source": [
    "lst1"
   ]
  },
  {
   "cell_type": "code",
   "execution_count": 12,
   "id": "c3a1e460-a561-47bf-aa6a-5670c4c72110",
   "metadata": {},
   "outputs": [
    {
     "ename": "IndexError",
     "evalue": "list index out of range",
     "output_type": "error",
     "traceback": [
      "\u001b[1;31m---------------------------------------------------------------------------\u001b[0m",
      "\u001b[1;31mIndexError\u001b[0m                                Traceback (most recent call last)",
      "Cell \u001b[1;32mIn [12], line 1\u001b[0m\n\u001b[1;32m----> 1\u001b[0m \u001b[43mlst1\u001b[49m\u001b[43m[\u001b[49m\u001b[38;5;241;43m7\u001b[39;49m\u001b[43m]\u001b[49m\n",
      "\u001b[1;31mIndexError\u001b[0m: list index out of range"
     ]
    }
   ],
   "source": [
    "lst1[7] #index會超出範圍"
   ]
  },
  {
   "cell_type": "code",
   "execution_count": 15,
   "id": "41a309b9-7c27-4e52-9fab-09d98adc895f",
   "metadata": {},
   "outputs": [
    {
     "data": {
      "text/plain": [
       "[]"
      ]
     },
     "execution_count": 15,
     "metadata": {},
     "output_type": "execute_result"
    }
   ],
   "source": [
    "lst1[6:12] #slice超出範圍不會error"
   ]
  },
  {
   "cell_type": "code",
   "execution_count": 16,
   "id": "e50de518-cc6e-4955-99b7-8bffd5bb7ecb",
   "metadata": {},
   "outputs": [
    {
     "data": {
      "text/plain": [
       "[1, 200, 3, 400, 500]"
      ]
     },
     "execution_count": 16,
     "metadata": {},
     "output_type": "execute_result"
    }
   ],
   "source": [
    "lst1"
   ]
  },
  {
   "cell_type": "code",
   "execution_count": 18,
   "id": "695c6cfc-6e76-4c94-b71d-83a1ae543ebf",
   "metadata": {},
   "outputs": [
    {
     "data": {
      "text/plain": [
       "[1, 200, 500]"
      ]
     },
     "execution_count": 18,
     "metadata": {},
     "output_type": "execute_result"
    }
   ],
   "source": [
    "del lst1[2] #刪除一個item\n",
    "lst1"
   ]
  },
  {
   "cell_type": "code",
   "execution_count": 21,
   "id": "c7163099-6507-422d-9910-88ca9ce256bc",
   "metadata": {},
   "outputs": [
    {
     "ename": "NameError",
     "evalue": "name 'lst1' is not defined",
     "output_type": "error",
     "traceback": [
      "\u001b[1;31m---------------------------------------------------------------------------\u001b[0m",
      "\u001b[1;31mNameError\u001b[0m                                 Traceback (most recent call last)",
      "Cell \u001b[1;32mIn [21], line 1\u001b[0m\n\u001b[1;32m----> 1\u001b[0m \u001b[38;5;28;01mdel\u001b[39;00m lst1\n",
      "\u001b[1;31mNameError\u001b[0m: name 'lst1' is not defined"
     ]
    }
   ],
   "source": [
    "del lst1 #刪除整個list"
   ]
  },
  {
   "cell_type": "code",
   "execution_count": 20,
   "id": "207ea679-077a-4dab-bce1-2b84ad61ae21",
   "metadata": {},
   "outputs": [
    {
     "ename": "NameError",
     "evalue": "name 'lst1' is not defined",
     "output_type": "error",
     "traceback": [
      "\u001b[1;31m---------------------------------------------------------------------------\u001b[0m",
      "\u001b[1;31mNameError\u001b[0m                                 Traceback (most recent call last)",
      "Cell \u001b[1;32mIn [20], line 1\u001b[0m\n\u001b[1;32m----> 1\u001b[0m \u001b[43mlst1\u001b[49m\n",
      "\u001b[1;31mNameError\u001b[0m: name 'lst1' is not defined"
     ]
    }
   ],
   "source": [
    "lst1"
   ]
  },
  {
   "cell_type": "code",
   "execution_count": 22,
   "id": "d8e67695-5992-4af4-992c-f8a0f3dacc1f",
   "metadata": {},
   "outputs": [],
   "source": [
    "lst4=[100,200,300]"
   ]
  },
  {
   "cell_type": "code",
   "execution_count": 23,
   "id": "1b2025a4-bf3e-471b-8a21-2fe621d3d18a",
   "metadata": {},
   "outputs": [],
   "source": [
    "lst5=[100,200,300]"
   ]
  },
  {
   "cell_type": "code",
   "execution_count": 24,
   "id": "537b1f3a-f766-4a37-bb10-27442a7173a7",
   "metadata": {},
   "outputs": [
    {
     "data": {
      "text/plain": [
       "True"
      ]
     },
     "execution_count": 24,
     "metadata": {},
     "output_type": "execute_result"
    }
   ],
   "source": [
    "lst4==lst5 #100% True"
   ]
  },
  {
   "cell_type": "code",
   "execution_count": 25,
   "id": "98fd36b2-0600-4298-a641-65beeaa75e50",
   "metadata": {},
   "outputs": [
    {
     "data": {
      "text/plain": [
       "False"
      ]
     },
     "execution_count": 25,
     "metadata": {},
     "output_type": "execute_result"
    }
   ],
   "source": [
    "lst4 is lst5 #99% False"
   ]
  },
  {
   "cell_type": "markdown",
   "id": "3f3f1f4d-0718-4630-abf4-beb1d92114e5",
   "metadata": {},
   "source": [
    "### Tuple"
   ]
  },
  {
   "cell_type": "code",
   "execution_count": 26,
   "id": "406dfb6a-82d2-4902-a394-5bcec5e2c68f",
   "metadata": {},
   "outputs": [
    {
     "data": {
      "text/plain": [
       "(1, 2, 3, 4, 5)"
      ]
     },
     "execution_count": 26,
     "metadata": {},
     "output_type": "execute_result"
    }
   ],
   "source": [
    "tup1=(1,2,3,4,5)\n",
    "tup1"
   ]
  },
  {
   "cell_type": "code",
   "execution_count": 27,
   "id": "f3d1d8ca-7524-49c0-8a95-f7672f1b1bf9",
   "metadata": {},
   "outputs": [
    {
     "data": {
      "text/plain": [
       "(1, 2)"
      ]
     },
     "execution_count": 27,
     "metadata": {},
     "output_type": "execute_result"
    }
   ],
   "source": [
    "tup1[:-3]"
   ]
  },
  {
   "cell_type": "code",
   "execution_count": 29,
   "id": "259e4c36-d41d-44c6-8cdd-e1077f36695f",
   "metadata": {},
   "outputs": [
    {
     "data": {
      "text/plain": [
       "4"
      ]
     },
     "execution_count": 29,
     "metadata": {},
     "output_type": "execute_result"
    }
   ],
   "source": [
    "tup1[3]"
   ]
  },
  {
   "cell_type": "code",
   "execution_count": 30,
   "id": "03118518-85ac-4e2f-a3c6-5b192ace59fa",
   "metadata": {},
   "outputs": [
    {
     "data": {
      "text/plain": [
       "50"
      ]
     },
     "execution_count": 30,
     "metadata": {},
     "output_type": "execute_result"
    }
   ],
   "source": [
    "tup2=(50)\n",
    "tup2"
   ]
  },
  {
   "cell_type": "code",
   "execution_count": 31,
   "id": "2cd2c47c-ed92-4715-9ffb-c93a2012e27a",
   "metadata": {},
   "outputs": [
    {
     "data": {
      "text/plain": [
       "int"
      ]
     },
     "execution_count": 31,
     "metadata": {},
     "output_type": "execute_result"
    }
   ],
   "source": [
    "type(tup2)"
   ]
  },
  {
   "cell_type": "code",
   "execution_count": 34,
   "id": "a715d58e-8668-4094-86f8-4e0720d5bb6e",
   "metadata": {},
   "outputs": [
    {
     "data": {
      "text/plain": [
       "(50,)"
      ]
     },
     "execution_count": 34,
     "metadata": {},
     "output_type": "execute_result"
    }
   ],
   "source": [
    "tup3=(50,) #(50,)在tuple稱為一維陣列，50個元素\n",
    "tup3"
   ]
  },
  {
   "cell_type": "code",
   "execution_count": 33,
   "id": "b91bd00a-27ec-4441-b85c-b48fa95bde0d",
   "metadata": {},
   "outputs": [
    {
     "data": {
      "text/plain": [
       "tuple"
      ]
     },
     "execution_count": 33,
     "metadata": {},
     "output_type": "execute_result"
    }
   ],
   "source": [
    "type(tup3)"
   ]
  },
  {
   "cell_type": "code",
   "execution_count": 11,
   "id": "935b2dce-aa4b-43e3-9acd-0483a95f1288",
   "metadata": {},
   "outputs": [
    {
     "data": {
      "text/plain": [
       "(33, 'python', [11, 22, 33], 77)"
      ]
     },
     "execution_count": 11,
     "metadata": {},
     "output_type": "execute_result"
    }
   ],
   "source": [
    "tup4=(33,'python',[11,22,33],77)\n",
    "tup4"
   ]
  },
  {
   "cell_type": "code",
   "execution_count": 10,
   "id": "ffa1de9d-8d6a-4add-bfd7-bb4d2b2730ed",
   "metadata": {},
   "outputs": [
    {
     "ename": "TypeError",
     "evalue": "'int' object does not support item assignment",
     "output_type": "error",
     "traceback": [
      "\u001b[1;31m---------------------------------------------------------------------------\u001b[0m",
      "\u001b[1;31mTypeError\u001b[0m                                 Traceback (most recent call last)",
      "Cell \u001b[1;32mIn [10], line 2\u001b[0m\n\u001b[0;32m      1\u001b[0m \u001b[38;5;66;03m#tuple 是不可改變的\u001b[39;00m\n\u001b[1;32m----> 2\u001b[0m \u001b[43mtup4\u001b[49m\u001b[43m[\u001b[49m\u001b[38;5;241;43m0\u001b[39;49m\u001b[43m]\u001b[49m\u001b[38;5;241m=\u001b[39m\u001b[38;5;241m99\u001b[39m\n",
      "\u001b[1;31mTypeError\u001b[0m: 'int' object does not support item assignment"
     ]
    }
   ],
   "source": [
    "#tuple 是不可改變的\n",
    "tup4[0]=99"
   ]
  },
  {
   "cell_type": "code",
   "execution_count": 5,
   "id": "c6e81b08-04cc-4529-bc3c-593e70473a81",
   "metadata": {},
   "outputs": [
    {
     "data": {
      "text/plain": [
       "[11, 22, 33]"
      ]
     },
     "execution_count": 5,
     "metadata": {},
     "output_type": "execute_result"
    }
   ],
   "source": [
    "tup4[2]"
   ]
  },
  {
   "cell_type": "code",
   "execution_count": 12,
   "id": "450174ff-d0d0-4fb4-b4b5-79ec7d6679fc",
   "metadata": {},
   "outputs": [
    {
     "data": {
      "text/plain": [
       "(33, 'python', [11, 99, 33], 77)"
      ]
     },
     "execution_count": 12,
     "metadata": {},
     "output_type": "execute_result"
    }
   ],
   "source": [
    "tup4[2][1]=99\n",
    "tup4"
   ]
  },
  {
   "cell_type": "code",
   "execution_count": 13,
   "id": "b7089e46-7977-4983-b3d9-6525546f5c9a",
   "metadata": {},
   "outputs": [
    {
     "data": {
      "text/plain": [
       "(700, 800, 900)"
      ]
     },
     "execution_count": 13,
     "metadata": {},
     "output_type": "execute_result"
    }
   ],
   "source": [
    "tup5=(700,800,900)\n",
    "tup5"
   ]
  },
  {
   "cell_type": "code",
   "execution_count": 14,
   "id": "1a8a3682-6c11-4009-8a97-323f29ef99e7",
   "metadata": {},
   "outputs": [
    {
     "data": {
      "text/plain": [
       "(700, 800, 900)"
      ]
     },
     "execution_count": 14,
     "metadata": {},
     "output_type": "execute_result"
    }
   ],
   "source": [
    "tup6=(700,800,900)\n",
    "tup6"
   ]
  },
  {
   "cell_type": "code",
   "execution_count": 15,
   "id": "227ec59d-74c6-4168-b90f-46cab72b7182",
   "metadata": {},
   "outputs": [
    {
     "data": {
      "text/plain": [
       "True"
      ]
     },
     "execution_count": 15,
     "metadata": {},
     "output_type": "execute_result"
    }
   ],
   "source": [
    "tup5 == tup6 #100% True"
   ]
  },
  {
   "cell_type": "code",
   "execution_count": 16,
   "id": "44d28372-6e27-4713-bde7-c01bedec6184",
   "metadata": {},
   "outputs": [
    {
     "data": {
      "text/plain": [
       "False"
      ]
     },
     "execution_count": 16,
     "metadata": {},
     "output_type": "execute_result"
    }
   ],
   "source": [
    "tup5 is tup6 #99% False"
   ]
  },
  {
   "cell_type": "markdown",
   "id": "765d05ae-2899-404d-9496-e105ceda5d08",
   "metadata": {},
   "source": [
    "### list comprehension"
   ]
  },
  {
   "cell_type": "code",
   "execution_count": 18,
   "id": "9df32b7b-8f71-47c0-9d31-5ad6e822371c",
   "metadata": {},
   "outputs": [
    {
     "data": {
      "text/plain": [
       "[0, 1, 4, 9, 16, 25, 36, 49, 64, 81]"
      ]
     },
     "execution_count": 18,
     "metadata": {},
     "output_type": "execute_result"
    }
   ],
   "source": [
    "S = [x**2 for x in range(10)]\n",
    "S"
   ]
  },
  {
   "cell_type": "code",
   "execution_count": 19,
   "id": "d465313a-d6e3-4396-8661-4f8b4249c6f3",
   "metadata": {},
   "outputs": [
    {
     "data": {
      "text/plain": [
       "[1, 2, 4, 8, 16, 32, 64, 128, 256, 512, 1024]"
      ]
     },
     "execution_count": 19,
     "metadata": {},
     "output_type": "execute_result"
    }
   ],
   "source": [
    "V = [2**n for n in range(11)]\n",
    "V"
   ]
  },
  {
   "cell_type": "code",
   "execution_count": 20,
   "id": "3941e04b-5941-470e-9d5e-f8927654cd9c",
   "metadata": {},
   "outputs": [
    {
     "data": {
      "text/plain": [
       "[0, 4, 16, 36, 64]"
      ]
     },
     "execution_count": 20,
     "metadata": {},
     "output_type": "execute_result"
    }
   ],
   "source": [
    "M = [x for x in S if x%2==0]\n",
    "M"
   ]
  },
  {
   "cell_type": "code",
   "execution_count": null,
   "id": "1c5eaa19-5357-4c15-abd4-37e668cd2dfd",
   "metadata": {},
   "outputs": [],
   "source": []
  }
 ],
 "metadata": {
  "kernelspec": {
   "display_name": "Python 3 (ipykernel)",
   "language": "python",
   "name": "python3"
  },
  "language_info": {
   "codemirror_mode": {
    "name": "ipython",
    "version": 3
   },
   "file_extension": ".py",
   "mimetype": "text/x-python",
   "name": "python",
   "nbconvert_exporter": "python",
   "pygments_lexer": "ipython3",
   "version": "3.10.7"
  }
 },
 "nbformat": 4,
 "nbformat_minor": 5
}

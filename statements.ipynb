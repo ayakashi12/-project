{
 "cells": [
  {
   "cell_type": "markdown",
   "id": "a48d4f89-ea67-4676-bda0-13bf505037cf",
   "metadata": {},
   "source": [
    "### Escaper    "
   ]
  },
  {
   "cell_type": "code",
   "execution_count": 2,
   "id": "35de3571-f869-4f99-a01e-7fbed410d1dc",
   "metadata": {},
   "outputs": [],
   "source": [
    "total = 1 + 2 + \\\n",
    "3 + 4 +\\\n",
    "5 + 6"
   ]
  },
  {
   "cell_type": "code",
   "execution_count": 3,
   "id": "0b7c2aa8-6f56-4af6-ad0b-c8b840a61a5e",
   "metadata": {},
   "outputs": [
    {
     "data": {
      "text/plain": [
       "21"
      ]
     },
     "execution_count": 3,
     "metadata": {},
     "output_type": "execute_result"
    }
   ],
   "source": [
    "total"
   ]
  },
  {
   "cell_type": "code",
   "execution_count": 5,
   "id": "c163e5f7-c6b1-493e-af6c-11a2b025edde",
   "metadata": {},
   "outputs": [],
   "source": [
    "# list , tuple , dict不需要\\，可以直接接續下一行\n",
    "mylist = [1,2,3,\n",
    "         4,5]"
   ]
  },
  {
   "cell_type": "code",
   "execution_count": 6,
   "id": "fdd29a89-ff99-442c-88e0-2058c268f6de",
   "metadata": {},
   "outputs": [
    {
     "data": {
      "text/plain": [
       "[1, 2, 3, 4, 5]"
      ]
     },
     "execution_count": 6,
     "metadata": {},
     "output_type": "execute_result"
    }
   ],
   "source": [
    "mylist"
   ]
  },
  {
   "cell_type": "code",
   "execution_count": 7,
   "id": "41ecac4e-b8f3-4eba-b584-f03572668971",
   "metadata": {},
   "outputs": [
    {
     "ename": "SyntaxError",
     "evalue": "unterminated string literal (detected at line 1) (1944419670.py, line 1)",
     "output_type": "error",
     "traceback": [
      "\u001b[1;36m  Cell \u001b[1;32mIn [7], line 1\u001b[1;36m\u001b[0m\n\u001b[1;33m    mystr = 'this is\u001b[0m\n\u001b[1;37m            ^\u001b[0m\n\u001b[1;31mSyntaxError\u001b[0m\u001b[1;31m:\u001b[0m unterminated string literal (detected at line 1)\n"
     ]
    }
   ],
   "source": [
    "mystr = 'this is\n",
    "a book'"
   ]
  },
  {
   "cell_type": "code",
   "execution_count": 12,
   "id": "467ac2af-7daf-485c-87b7-60ee88526d17",
   "metadata": {},
   "outputs": [],
   "source": [
    "   x = 33 # nteobook允許單一敘述隨便空格"
   ]
  },
  {
   "cell_type": "code",
   "execution_count": 9,
   "id": "a35e8bc4-6a23-4846-a6bb-e9f6b5da605e",
   "metadata": {},
   "outputs": [
    {
     "data": {
      "text/plain": [
       "33"
      ]
     },
     "execution_count": 9,
     "metadata": {},
     "output_type": "execute_result"
    }
   ],
   "source": [
    "x"
   ]
  },
  {
   "cell_type": "code",
   "execution_count": 10,
   "id": "ed57ae31-6765-47c0-a069-5d9684947505",
   "metadata": {},
   "outputs": [
    {
     "ename": "IndentationError",
     "evalue": "unexpected indent (4193382050.py, line 2)",
     "output_type": "error",
     "traceback": [
      "\u001b[1;36m  Cell \u001b[1;32mIn [10], line 2\u001b[1;36m\u001b[0m\n\u001b[1;33m    b=88\u001b[0m\n\u001b[1;37m    ^\u001b[0m\n\u001b[1;31mIndentationError\u001b[0m\u001b[1;31m:\u001b[0m unexpected indent\n"
     ]
    }
   ],
   "source": [
    "a=66\n",
    "  b=88"
   ]
  },
  {
   "cell_type": "markdown",
   "id": "1f1f29ad-a4d2-437b-bcba-82537a020c2e",
   "metadata": {},
   "source": [
    "### if statement"
   ]
  },
  {
   "cell_type": "code",
   "execution_count": 13,
   "id": "e2ebdf22-45c2-42ef-8139-a0fbdd1822fb",
   "metadata": {},
   "outputs": [],
   "source": [
    "num = 6"
   ]
  },
  {
   "cell_type": "code",
   "execution_count": 14,
   "id": "3949109f-62e6-402a-bbc6-7ad2c5de40a7",
   "metadata": {},
   "outputs": [
    {
     "data": {
      "text/plain": [
       "True"
      ]
     },
     "execution_count": 14,
     "metadata": {},
     "output_type": "execute_result"
    }
   ],
   "source": [
    "num %2 ==0"
   ]
  },
  {
   "cell_type": "code",
   "execution_count": 20,
   "id": "09cb9c0c-e430-46f7-a677-32087d4266c9",
   "metadata": {},
   "outputs": [
    {
     "data": {
      "text/plain": [
       "True"
      ]
     },
     "execution_count": 20,
     "metadata": {},
     "output_type": "execute_result"
    }
   ],
   "source": [
    "not num%2 #單一運算比二元運算快"
   ]
  },
  {
   "cell_type": "code",
   "execution_count": 17,
   "id": "1f4415c7-cc0a-4473-ba92-0deaee263970",
   "metadata": {},
   "outputs": [
    {
     "data": {
      "text/plain": [
       "False"
      ]
     },
     "execution_count": 17,
     "metadata": {},
     "output_type": "execute_result"
    }
   ],
   "source": [
    "num %2!=0"
   ]
  },
  {
   "cell_type": "code",
   "execution_count": 19,
   "id": "2d368b72-cb9a-49c8-bcc2-685209b9e8da",
   "metadata": {},
   "outputs": [
    {
     "data": {
      "text/plain": [
       "0"
      ]
     },
     "execution_count": 19,
     "metadata": {},
     "output_type": "execute_result"
    }
   ],
   "source": [
    "num%2 #只做一次運算"
   ]
  },
  {
   "cell_type": "markdown",
   "id": "fc4d361d-7b36-4581-ac4b-2a26d6a4d58a",
   "metadata": {},
   "source": [
    "### 三元運算子，要取代簡單的if-else statements"
   ]
  },
  {
   "cell_type": "code",
   "execution_count": 21,
   "id": "a69ec832-48ce-4750-af01-2735e182b062",
   "metadata": {},
   "outputs": [
    {
     "name": "stdin",
     "output_type": "stream",
     "text": [
      "enter a number:  33.5\n"
     ]
    }
   ],
   "source": [
    "num = eval(input('enter a number: '))"
   ]
  },
  {
   "cell_type": "code",
   "execution_count": 22,
   "id": "ed7c26d5-2bc7-43b7-91d9-9285aa847e4e",
   "metadata": {},
   "outputs": [
    {
     "data": {
      "text/plain": [
       "33.5"
      ]
     },
     "execution_count": 22,
     "metadata": {},
     "output_type": "execute_result"
    }
   ],
   "source": [
    "num "
   ]
  },
  {
   "cell_type": "code",
   "execution_count": 24,
   "id": "7bb4a207-7e16-4f09-9b43-dbccdf7c7db6",
   "metadata": {},
   "outputs": [
    {
     "name": "stdout",
     "output_type": "stream",
     "text": [
      "3.5\n"
     ]
    }
   ],
   "source": [
    "if num > 60: \n",
    "    print(num+30)\n",
    "else:\n",
    "    print(num-30)"
   ]
  },
  {
   "cell_type": "code",
   "execution_count": 30,
   "id": "3adb1013-31a6-4a45-ac41-be5a515a0f79",
   "metadata": {},
   "outputs": [
    {
     "name": "stdout",
     "output_type": "stream",
     "text": [
      "3.5\n"
     ]
    }
   ],
   "source": [
    "# single statement suites\n",
    "if num > 60: \n",
    "    print(num+30)\n",
    "else: print(num-30)"
   ]
  },
  {
   "cell_type": "code",
   "execution_count": 26,
   "id": "08c82d0c-f03d-4c46-a4a2-bdc1a7678dff",
   "metadata": {},
   "outputs": [
    {
     "name": "stdout",
     "output_type": "stream",
     "text": [
      "3.5\n"
     ]
    }
   ],
   "source": [
    "ptint(num+30) if num>60 else print(num-30)"
   ]
  },
  {
   "cell_type": "markdown",
   "id": "301c9c85-aaf1-4034-88c8-138a185af356",
   "metadata": {},
   "source": [
    "### 評估程式效能，使用timeit magic"
   ]
  },
  {
   "cell_type": "code",
   "execution_count": 33,
   "id": "67edf0eb-6342-4007-8ecb-46b3363bd3f9",
   "metadata": {},
   "outputs": [
    {
     "name": "stdout",
     "output_type": "stream",
     "text": [
      "56 ns ± 0.637 ns per loop (mean ± std. dev. of 7 runs, 10,000,000 loops each)\n"
     ]
    }
   ],
   "source": [
    "%%timeit\n",
    "if num > 60: \n",
    "    res=num+30\n",
    "else:\n",
    "    res=num-30"
   ]
  },
  {
   "cell_type": "code",
   "execution_count": 29,
   "id": "ff9945b7-935d-404b-b569-39a83e8d117f",
   "metadata": {
    "tags": []
   },
   "outputs": [
    {
     "data": {
      "text/plain": [
       "3.5"
      ]
     },
     "execution_count": 29,
     "metadata": {},
     "output_type": "execute_result"
    }
   ],
   "source": [
    "res"
   ]
  },
  {
   "cell_type": "code",
   "execution_count": 34,
   "id": "1688f4cb-761e-4a07-baf1-62aec0cb606c",
   "metadata": {},
   "outputs": [
    {
     "name": "stdout",
     "output_type": "stream",
     "text": [
      "58.7 ns ± 0.934 ns per loop (mean ± std. dev. of 7 runs, 10,000,000 loops each)\n"
     ]
    }
   ],
   "source": [
    "%%timeit\n",
    "res2 = num+30 if num>60 else num-30"
   ]
  },
  {
   "cell_type": "code",
   "execution_count": 32,
   "id": "31d0e396-c1a7-45ac-a3be-063f39c9ad5a",
   "metadata": {
    "tags": []
   },
   "outputs": [
    {
     "data": {
      "text/plain": [
       "3.5"
      ]
     },
     "execution_count": 32,
     "metadata": {},
     "output_type": "execute_result"
    }
   ],
   "source": [
    "res2"
   ]
  },
  {
   "cell_type": "code",
   "execution_count": 1,
   "id": "9a5f8558-87b2-411f-8c73-30f4b5940dee",
   "metadata": {},
   "outputs": [],
   "source": [
    "a= 33\n",
    "b= 77"
   ]
  },
  {
   "cell_type": "code",
   "execution_count": 8,
   "id": "a887f1d4-0f4d-432b-bf74-703aeea15a9c",
   "metadata": {},
   "outputs": [
    {
     "name": "stdout",
     "output_type": "stream",
     "text": [
      "30 ns ± 1.81 ns per loop (mean ± std. dev. of 7 runs, 10,000,000 loops each)\n"
     ]
    }
   ],
   "source": [
    "%%timeit\n",
    "a=33\n",
    "b=77\n",
    "temp = a\n",
    "a=b\n",
    "b=temp"
   ]
  },
  {
   "cell_type": "code",
   "execution_count": 3,
   "id": "0145ded1-5096-4c45-a00f-dd653f60de58",
   "metadata": {},
   "outputs": [
    {
     "data": {
      "text/plain": [
       "(77, 33)"
      ]
     },
     "execution_count": 3,
     "metadata": {},
     "output_type": "execute_result"
    }
   ],
   "source": [
    "a,b"
   ]
  },
  {
   "cell_type": "code",
   "execution_count": 7,
   "id": "d0703dc7-cf2b-4465-8a71-5d67a71233db",
   "metadata": {},
   "outputs": [
    {
     "name": "stdout",
     "output_type": "stream",
     "text": [
      "28 ns ± 1.23 ns per loop (mean ± std. dev. of 7 runs, 10,000,000 loops each)\n"
     ]
    }
   ],
   "source": [
    "%%timeit\n",
    "a=33\n",
    "b=77\n",
    "a,b=b,a"
   ]
  },
  {
   "cell_type": "code",
   "execution_count": 6,
   "id": "a7f686ce-be93-473c-b8ed-f8e8dcac0883",
   "metadata": {},
   "outputs": [
    {
     "data": {
      "text/plain": [
       "(77, 33)"
      ]
     },
     "execution_count": 6,
     "metadata": {},
     "output_type": "execute_result"
    }
   ],
   "source": [
    "a,b"
   ]
  },
  {
   "cell_type": "markdown",
   "id": "cdb4f1d1-c105-4237-8b28-a00c15430616",
   "metadata": {},
   "source": [
    "### range()function"
   ]
  },
  {
   "cell_type": "code",
   "execution_count": 9,
   "id": "7bb32a56-697d-46d1-8e90-0943d661f633",
   "metadata": {},
   "outputs": [
    {
     "data": {
      "text/plain": [
       "range(0, 100)"
      ]
     },
     "execution_count": 9,
     "metadata": {},
     "output_type": "execute_result"
    }
   ],
   "source": [
    "range(100) #0~99"
   ]
  },
  {
   "cell_type": "code",
   "execution_count": 11,
   "id": "2304a305-9f34-4637-afbf-d52a6ce2cb54",
   "metadata": {
    "collapsed": true,
    "jupyter": {
     "outputs_hidden": true
    },
    "tags": []
   },
   "outputs": [
    {
     "data": {
      "text/plain": [
       "[0,\n",
       " 1,\n",
       " 2,\n",
       " 3,\n",
       " 4,\n",
       " 5,\n",
       " 6,\n",
       " 7,\n",
       " 8,\n",
       " 9,\n",
       " 10,\n",
       " 11,\n",
       " 12,\n",
       " 13,\n",
       " 14,\n",
       " 15,\n",
       " 16,\n",
       " 17,\n",
       " 18,\n",
       " 19,\n",
       " 20,\n",
       " 21,\n",
       " 22,\n",
       " 23,\n",
       " 24,\n",
       " 25,\n",
       " 26,\n",
       " 27,\n",
       " 28,\n",
       " 29,\n",
       " 30,\n",
       " 31,\n",
       " 32,\n",
       " 33,\n",
       " 34,\n",
       " 35,\n",
       " 36,\n",
       " 37,\n",
       " 38,\n",
       " 39,\n",
       " 40,\n",
       " 41,\n",
       " 42,\n",
       " 43,\n",
       " 44,\n",
       " 45,\n",
       " 46,\n",
       " 47,\n",
       " 48,\n",
       " 49,\n",
       " 50,\n",
       " 51,\n",
       " 52,\n",
       " 53,\n",
       " 54,\n",
       " 55,\n",
       " 56,\n",
       " 57,\n",
       " 58,\n",
       " 59,\n",
       " 60,\n",
       " 61,\n",
       " 62,\n",
       " 63,\n",
       " 64,\n",
       " 65,\n",
       " 66,\n",
       " 67,\n",
       " 68,\n",
       " 69,\n",
       " 70,\n",
       " 71,\n",
       " 72,\n",
       " 73,\n",
       " 74,\n",
       " 75,\n",
       " 76,\n",
       " 77,\n",
       " 78,\n",
       " 79,\n",
       " 80,\n",
       " 81,\n",
       " 82,\n",
       " 83,\n",
       " 84,\n",
       " 85,\n",
       " 86,\n",
       " 87,\n",
       " 88,\n",
       " 89,\n",
       " 90,\n",
       " 91,\n",
       " 92,\n",
       " 93,\n",
       " 94,\n",
       " 95,\n",
       " 96,\n",
       " 97,\n",
       " 98,\n",
       " 99]"
      ]
     },
     "execution_count": 11,
     "metadata": {},
     "output_type": "execute_result"
    }
   ],
   "source": [
    "list(range(100))"
   ]
  },
  {
   "cell_type": "code",
   "execution_count": 12,
   "id": "22fd3dd6-648d-4583-ab8e-d8935f675009",
   "metadata": {},
   "outputs": [
    {
     "data": {
      "text/plain": [
       "(0, 1, 2, 3, 4, 5, 6, 7, 8, 9)"
      ]
     },
     "execution_count": 12,
     "metadata": {},
     "output_type": "execute_result"
    }
   ],
   "source": [
    "tuple(range(10))"
   ]
  },
  {
   "cell_type": "code",
   "execution_count": null,
   "id": "461fff03-fc53-45ad-a58b-8bc1f8dd1f28",
   "metadata": {},
   "outputs": [],
   "source": []
  }
 ],
 "metadata": {
  "kernelspec": {
   "display_name": "Python 3 (ipykernel)",
   "language": "python",
   "name": "python3"
  },
  "language_info": {
   "codemirror_mode": {
    "name": "ipython",
    "version": 3
   },
   "file_extension": ".py",
   "mimetype": "text/x-python",
   "name": "python",
   "nbconvert_exporter": "python",
   "pygments_lexer": "ipython3",
   "version": "3.10.7"
  }
 },
 "nbformat": 4,
 "nbformat_minor": 5
}
